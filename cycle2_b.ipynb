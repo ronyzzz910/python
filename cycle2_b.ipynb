{
  "nbformat": 4,
  "nbformat_minor": 0,
  "metadata": {
    "colab": {
      "name": "cycle2.b.ipynb",
      "provenance": []
    },
    "kernelspec": {
      "name": "python3",
      "display_name": "Python 3"
    }
  },
  "cells": [
    {
      "cell_type": "code",
      "metadata": {
        "colab": {
          "base_uri": "https://localhost:8080/"
        },
        "id": "kN-p693sr-dx",
        "outputId": "1071c9f3-eedb-4333-bd3e-710c852952f6"
      },
      "source": [
        "k1=input(\"enter first key : \")\r\n",
        "k2=input(\"enter second key : \")\r\n",
        "k3=input(\"enter third key : \")\r\n",
        "k4=input(\"enter fourth key : \")\r\n",
        "k5=input(\"enter fifth key : \")\r\n",
        "v1=input(\"enter first value : \")\r\n",
        "v2=input(\"enter second value : \")\r\n",
        "v3=input(\"enter third value : \")\r\n",
        "v4=input(\"enter fourth value : \")\r\n",
        "v5=input(\"enter fifth value : \")\r\n",
        "d={}\r\n",
        "d[k1]=v1\r\n",
        "d[k2]=v2\r\n",
        "d[k3]=v3\r\n",
        "d[k4]=v4\r\n",
        "d[k5]=v5\r\n",
        "l=list(d.items())   \r\n",
        "l.sort() \r\n",
        "print(\"ascending order is : \",l)\r\n",
        "l=list(d.items())\r\n",
        "l.sort(reverse = True)\r\n",
        "print(\"descending order is : \",l)4"
      ],
      "execution_count": 1,
      "outputs": [
        {
          "output_type": "stream",
          "text": [
            "enter first key : 1\n",
            "enter second key : 2\n",
            "enter third key : 3\n",
            "enter fourth key : \n",
            "enter fifth key : \n",
            "enter first value : hai\n",
            "enter second value : hello\n",
            "enter third value : fine\n",
            "enter fourth value : thanks\n",
            "enter fifth value : bye\n",
            "ascending order is :  [('', 'bye'), ('1', 'hai'), ('2', 'hello'), ('3', 'fine')]\n",
            "descending order is :  [('3', 'fine'), ('2', 'hello'), ('1', 'hai'), ('', 'bye')]\n"
          ],
          "name": "stdout"
        }
      ]
    },
    {
      "cell_type": "code",
      "metadata": {
        "colab": {
          "base_uri": "https://localhost:8080/"
        },
        "id": "L6ZHFEFgsQIU",
        "outputId": "95b47d38-417f-4c2b-be94-db1098605880"
      },
      "source": [
        "x=input(\"enter the first string : \")\r\n",
        "y=input(\"enter the second string : \")\r\n",
        "def swapch(x,y): \r\n",
        "  a = y[:1] + x[1:]\r\n",
        "  b = x[:1] + y[1:]\r\n",
        "  return a + ' ' + b\r\n",
        "print(swapch(x,y))"
      ],
      "execution_count": 2,
      "outputs": [
        {
          "output_type": "stream",
          "text": [
            "enter the first string : rony\n",
            "enter the second string : kurian\n",
            "kony rurian\n"
          ],
          "name": "stdout"
        }
      ]
    },
    {
      "cell_type": "code",
      "metadata": {
        "colab": {
          "base_uri": "https://localhost:8080/"
        },
        "id": "fvWJV_OWsXvY",
        "outputId": "23842665-1bca-42e2-d6c0-f1e85d8106e9"
      },
      "source": [
        "c1=[]\r\n",
        "x=int(input(\"enter limit for list1 :\"))\r\n",
        "for i in range(1,x+1):\r\n",
        "  a=input()\r\n",
        "  c1.append(a)\r\n",
        "  p=set(c1)\r\n",
        "print(p)\r\n",
        "c2=[]\r\n",
        "y=int(input(\"enter limit for list2 : \"))\r\n",
        "for i in range(1,y+1):\r\n",
        "  b=input()\r\n",
        "  c2.append(b)\r\n",
        "  q=set(c2)\r\n",
        "print(q)\r\n",
        "print(p.difference(q))"
      ],
      "execution_count": 3,
      "outputs": [
        {
          "output_type": "stream",
          "text": [
            "enter limit for list1 :2\n",
            "red\n",
            "green\n",
            "{'green', 'red'}\n",
            "enter limit for list2 : 2\n",
            "aple\n",
            "orange\n",
            "{'aple', 'orange'}\n",
            "{'green', 'red'}\n"
          ],
          "name": "stdout"
        }
      ]
    },
    {
      "cell_type": "code",
      "metadata": {
        "colab": {
          "base_uri": "https://localhost:8080/"
        },
        "id": "xZnBXTGWshZz",
        "outputId": "a7e0ae06-ffbf-44c5-a653-3795b4581bb5"
      },
      "source": [
        "a=int(input(\"enter any integer : \"))\r\n",
        "n1=int(\"%s\" %a)\r\n",
        "n2=int(\"%s%s\" %(a,a))\r\n",
        "n3=int(\"%s%s%s\" %(a,a,a))\r\n",
        "print(\"value of n+nn+nnn is : \",n1+n2+n3)"
      ],
      "execution_count": 4,
      "outputs": [
        {
          "output_type": "stream",
          "text": [
            "enter any integer : 2\n",
            "value of n+nn+nnn is :  246\n"
          ],
          "name": "stdout"
        }
      ]
    },
    {
      "cell_type": "code",
      "metadata": {
        "colab": {
          "base_uri": "https://localhost:8080/"
        },
        "id": "weS57Xf2snLI",
        "outputId": "6506b961-5fb2-47dc-8c76-952fc770dff7"
      },
      "source": [
        "\r\n",
        "c=[]\r\n",
        "x=int(input(\"enter limit for list : \"))\r\n",
        "for i in range(1,x+1):\r\n",
        "  a=input()\r\n",
        "  c.append(a)\r\n",
        "print(c)\r\n",
        "print(c[0],c[-1])"
      ],
      "execution_count": 5,
      "outputs": [
        {
          "output_type": "stream",
          "text": [
            "enter limit for list : 2\n",
            "hai\n",
            "hello\n",
            "['hai', 'hello']\n",
            "hai hello\n"
          ],
          "name": "stdout"
        }
      ]
    },
    {
      "cell_type": "code",
      "metadata": {
        "colab": {
          "base_uri": "https://localhost:8080/"
        },
        "id": "ZMEGeFmystKC",
        "outputId": "d5e5423b-34fd-4079-bb08-5c573082e452"
      },
      "source": [
        "str=input(\"enter any string : \")\r\n",
        "def rep_ch(str1):\r\n",
        "  char=str1[0]\r\n",
        "  str1=str1.replace(char, '$')\r\n",
        "  str1=char+str1[1:]\r\n",
        "  return str1\r\n",
        "print(rep_ch(str))"
      ],
      "execution_count": 6,
      "outputs": [
        {
          "output_type": "stream",
          "text": [
            "enter any string : rony\n",
            "rony\n"
          ],
          "name": "stdout"
        }
      ]
    },
    {
      "cell_type": "code",
      "metadata": {
        "colab": {
          "base_uri": "https://localhost:8080/"
        },
        "id": "OYlk9APcsy87",
        "outputId": "c4e2ae2c-6af5-422d-f9a1-323765740678"
      },
      "source": [
        "x=[]\r\n",
        "a=int(input(\"enter limit for list1 : \"))\r\n",
        "for i in range(1,a+1):\r\n",
        "  a=int(input())\r\n",
        "  x.append(a)\r\n",
        "print(x)\r\n",
        "y=[]\r\n",
        "b=int(input(\"enter limit for list2 : \"))\r\n",
        "for i in range(1,b+1):\r\n",
        "  b=int(input())\r\n",
        "  y.append(b)\r\n",
        "print(y)\r\n",
        "if (len(x)==len(y)):\r\n",
        "  print(\"list1 and list2 are of same length i.e.\",len(x))\r\n",
        "else:\r\n",
        "  print(\"list1 and list2 are of different length.\")\r\n",
        "if (sum(x)==sum(y)):\r\n",
        "  print(\"list1 and list2 sums to the same value i.e.\",sum(x))\r\n",
        "else:\r\n",
        "  print(\"list1 and list2 sums up to different values.\")\r\n",
        "def common(x, y): \r\n",
        "    p=set(x) \r\n",
        "    q=set(y) \r\n",
        "    if len(p.intersection(q)) > 0: \r\n",
        "        return(p.intersection(q))   \r\n",
        "    else: \r\n",
        "        return(\"no common elements\")  \r\n",
        "print(\"value that occur in both lists is/are :\",common(x,y))"
      ],
      "execution_count": 11,
      "outputs": [
        {
          "output_type": "stream",
          "text": [
            "enter limit for list1 : 3\n",
            "9\n",
            "6\n",
            "3\n",
            "[9, 6, 3]\n",
            "enter limit for list2 : 3\n",
            "9\n",
            "7\n",
            "2\n",
            "[9, 7, 2]\n",
            "list1 and list2 are of same length i.e. 3\n",
            "list1 and list2 sums to the same value i.e. 18\n",
            "value that occur in both lists is/are : {9}\n"
          ],
          "name": "stdout"
        }
      ]
    },
    {
      "cell_type": "code",
      "metadata": {
        "colab": {
          "base_uri": "https://localhost:8080/"
        },
        "id": "A-eyPzmvtQs7",
        "outputId": "34d47b4c-7588-45fc-a0eb-cb48af84a58c"
      },
      "source": [
        "l=[]\r\n",
        "x=int(input(\"enter the limit : \"))\r\n",
        "for i in range (1,x+1):\r\n",
        "  x=input(\"enter the first name : \")\r\n",
        "  l.append(x)\r\n",
        "  count = x.count('a')\r\n",
        "  print(\"number of time a is present in name:\",count)"
      ],
      "execution_count": 12,
      "outputs": [
        {
          "output_type": "stream",
          "text": [
            "enter the limit : 2\n",
            "enter the first name : alen\n",
            "number of time a is present in name: 1\n",
            "enter the first name : sam\n",
            "number of time a is present in name: 1\n"
          ],
          "name": "stdout"
        }
      ]
    },
    {
      "cell_type": "code",
      "metadata": {
        "colab": {
          "base_uri": "https://localhost:8080/"
        },
        "id": "1nNNmjnctdP9",
        "outputId": "d4de3d19-682a-411d-c60c-255007d67723"
      },
      "source": [
        "\r\n",
        "n=input(\"enter your house number : \")\r\n",
        "hname=input(\"enter your house name : \")\r\n",
        "s=input(\"enter your street name : \")\r\n",
        "t=input(\"enter your town/city : \")\r\n",
        "d=input(\"enter your district : \")\r\n",
        "state=input(\"enter your state : \")\r\n",
        "county=input(\"enter your county : \")\r\n",
        "pin=int(input(\"enter your postcode: \"))\r\n",
        "print(\"\\nAddress Details :\\n\" + \"\\nHousenumber :\",n,\"\\nHouse :\",hname,\"\\nStreet : \",s,\"\\nTown/City : \",t,\"District : \",d,\"\\nState : \",state,\"\\nCounty : \",county,\"\\nPostcode : \",pin)"
      ],
      "execution_count": 13,
      "outputs": [
        {
          "output_type": "stream",
          "text": [
            "enter your house number : 3\n",
            "enter your house name : lakshanam\n",
            "enter your street name : kallara\n",
            "enter your town/city : kottayam\n",
            "enter your district : kottayam\n",
            "enter your state : kerala\n",
            "enter your county : india\n",
            "enter your postcode: 686611\n",
            "\n",
            "Address Details :\n",
            "\n",
            "Housenumber : 3 \n",
            "House : lakshanam \n",
            "Street :  kallara \n",
            "Town/City :  kottayam District :  kottayam \n",
            "State :  kerala \n",
            "County :  india \n",
            "Postcode :  686611\n"
          ],
          "name": "stdout"
        }
      ]
    },
    {
      "cell_type": "code",
      "metadata": {
        "id": "O-Gfflv_toTv"
      },
      "source": [
        ""
      ],
      "execution_count": null,
      "outputs": []
    }
  ]
}