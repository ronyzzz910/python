{
  "nbformat": 4,
  "nbformat_minor": 0,
  "metadata": {
    "colab": {
      "name": "Untitled",
      "provenance": []
    },
    "kernelspec": {
      "name": "python3",
      "display_name": "Python 3"
    }
  },
  "cells": [
    {
      "cell_type": "code",
      "metadata": {
        "colab": {
          "base_uri": "https://localhost:8080/"
        },
        "id": "5nQExh5t1-Wx",
        "outputId": "4779f66d-91e7-49ae-b41d-a50b7f2e227d"
      },
      "source": [
        "class Rectangle:\r\n",
        "    def __init__(self,l,b):\r\n",
        "        self.length=l\r\n",
        "        self.breadth=b\r\n",
        "\r\n",
        "    def area(self):\r\n",
        "            return self.length*self.breadth\r\n",
        "\r\n",
        "    def perimeter(self):\r\n",
        "        return 2*(self.length+self.breadth)\r\n",
        "\r\n",
        "print(\"\\n*** RECTANGLE 1 ***\\n\")\r\n",
        "p =int(input(\"enter the length of rectangle 1 : \"))\r\n",
        "q =int(input(\"enter the breadth of the rectangle 1 : \"))\r\n",
        "rect1=Rectangle(p,q)\r\n",
        "area1=rect1.area()\r\n",
        "\r\n",
        "print(\"\\n*** RECTANGLE 2 ***\\n\")\r\n",
        "a =int(input(\"enter the length of rectangle 2 : \"))\r\n",
        "b =int(input(\"enter the breadth of the rectangle 2 : \"))\r\n",
        "rect2=Rectangle(a,b)\r\n",
        "area2=rect2.area()\r\n",
        "\r\n",
        "print(\"area of rectangle 1 : \", area1)\r\n",
        "print(\"perimeter of rectangle 1 : \", rect1.perimeter())\r\n",
        "print(\"area of rectangle 2 : \", area2)\r\n",
        "print(\"perimeter of rectangle 2 : \",rect2.perimeter())\r\n",
        "\r\n",
        "print(\"\\n***COMPARISION**\\n\")\r\n",
        "if rect1.area() > rect2.area():\r\n",
        " print(\"rectangle 1 is greater !!\")\r\n",
        "elif rect1.area() < rect2.area():\r\n",
        " print(\"rectangle 2 is greater !!\")\r\n",
        "else:\r\n",
        " print(\"both are the same !!\")"
      ],
      "execution_count": 1,
      "outputs": [
        {
          "output_type": "stream",
          "text": [
            "\n",
            "*** RECTANGLE 1 ***\n",
            "\n",
            "enter the length of rectangle 1 : 2\n",
            "enter the breadth of the rectangle 1 : 4\n",
            "\n",
            "*** RECTANGLE 2 ***\n",
            "\n",
            "enter the length of rectangle 2 : 3\n",
            "enter the breadth of the rectangle 2 : 6\n",
            "area of rectangle 1 :  8\n",
            "perimeter of rectangle 1 :  12\n",
            "area of rectangle 2 :  18\n",
            "perimeter of rectangle 2 :  18\n",
            "\n",
            "***COMPARISION**\n",
            "\n",
            "rectangle 2 is greater !!\n"
          ],
          "name": "stdout"
        }
      ]
    },
    {
      "cell_type": "code",
      "metadata": {
        "colab": {
          "base_uri": "https://localhost:8080/"
        },
        "id": "isKIUYbC2IBJ",
        "outputId": "7ec69471-cbd0-4e01-b0ca-e300439e4ea6"
      },
      "source": [
        "class Bank_Account:\r\n",
        "    def __init__(self,accno,name,acctype,balance):\r\n",
        "        self.accno=accno\r\n",
        "        self.name=name\r\n",
        "        self.acctype=acctype\r\n",
        "        self.balance=balance\r\n",
        "\r\n",
        "    print(\"***HELLO !!! WELCOME DEAR ACCOUNT HOLDER***\")\r\n",
        "\r\n",
        "    def deposit(self):\r\n",
        "        amount = float(input(\"\\nenter amount to be deposited : \"))\r\n",
        "        self.balance += amount\r\n",
        "        print(\"\\namount deposited :\", amount)\r\n",
        "\r\n",
        "    def withdraw(self):\r\n",
        "        amount = float(input(\"\\nenter amount to be withdrawn : \"))\r\n",
        "\r\n",
        "        if self.balance >= amount:\r\n",
        "            self.balance -= amount\r\n",
        "            print(\"\\nYou withdrew :\", amount)\r\n",
        "        else:\r\n",
        "            print(\"\\nInsufficient balance !!! \")\r\n",
        "\r\n",
        "\r\n",
        "    def display(self):\r\n",
        "        print(\"\\nAccount Number : \",self.accno)\r\n",
        "        print(\"Holder Name : \",self.name)\r\n",
        "        print(\"Account Type : \",self.acctype)\r\n",
        "        print(\"Net available Balance : \", self.balance)\r\n",
        "\r\n",
        "\r\n",
        "account=Bank_Account(123456789,\"rony\",\"Savings\",5000)\r\n",
        "account.deposit()\r\n",
        "account.withdraw()\r\n",
        "account.display()"
      ],
      "execution_count": 3,
      "outputs": [
        {
          "output_type": "stream",
          "text": [
            "***HELLO !!! WELCOME DEAR ACCOUNT HOLDER***\n",
            "\n",
            "enter amount to be deposited : 1000\n",
            "\n",
            "amount deposited : 1000.0\n",
            "\n",
            "enter amount to be withdrawn : 500\n",
            "\n",
            "You withdrew : 500.0\n",
            "\n",
            "Account Number :  123456789\n",
            "Holder Name :  rony\n",
            "Account Type :  Savings\n",
            "Net available Balance :  5500.0\n"
          ],
          "name": "stdout"
        }
      ]
    },
    {
      "cell_type": "code",
      "metadata": {
        "colab": {
          "base_uri": "https://localhost:8080/"
        },
        "id": "XjQwD-FY2cMS",
        "outputId": "5db28a93-bb45-4ead-968c-ccebac814f66"
      },
      "source": [
        "class Rectangle():\r\n",
        "    def __init__(self, l, w):\r\n",
        "        self.__length = l\r\n",
        "        self.__width = w\r\n",
        "\r\n",
        "    def area(self):\r\n",
        "        return self.__length*self.__width\r\n",
        "\r\n",
        "    def __lt__(self):\r\n",
        "        if (area1 < area2):\r\n",
        "            print(\"area of rectangle 1 is less than Rectangle 2 !\")\r\n",
        "        else:\r\n",
        "            print(\"area of rectangle 2 is less than Rectangle 1 !\")\r\n",
        "\r\n",
        "print(\"\\n***RECTANGLE 1***\\n\")\r\n",
        "a=int(input(\"enter the length : \"))\r\n",
        "b= int(input(\"enter the width : \"))\r\n",
        "rect1=Rectangle(a,b)\r\n",
        "\r\n",
        "print(\"area of rectangle 1 : \",rect1.area())\r\n",
        "\r\n",
        "print(\"\\n***RECTANGLE 2***\\n\")\r\n",
        "p=int(input(\"enter the length : \"))\r\n",
        "q= int(input(\"enter the width : \"))\r\n",
        "rect2=Rectangle(p,q)\r\n",
        "\r\n",
        "print(\"area of rectangle 2 : \",rect2.area())\r\n",
        "\r\n",
        "\r\n",
        "area1 = rect1.area()\r\n",
        "area2 = rect2.area()\r\n",
        "obj=Rectangle(area1,area2)\r\n",
        "obj.__lt__()"
      ],
      "execution_count": 4,
      "outputs": [
        {
          "output_type": "stream",
          "text": [
            "\n",
            "***RECTANGLE 1***\n",
            "\n",
            "enter the length : 2\n",
            "enter the width : 4\n",
            "area of rectangle 1 :  8\n",
            "\n",
            "***RECTANGLE 2***\n",
            "\n",
            "enter the length : 4\n",
            "enter the width : 6\n",
            "area of rectangle 2 :  24\n",
            "area of rectangle 1 is less than Rectangle 2 !\n"
          ],
          "name": "stdout"
        }
      ]
    },
    {
      "cell_type": "code",
      "metadata": {
        "colab": {
          "base_uri": "https://localhost:8080/"
        },
        "id": "jzyxrfN52lmV",
        "outputId": "f82ab340-54f8-4947-95cb-3b422107bc0f"
      },
      "source": [
        "class Time:\r\n",
        "    def __init__(self,hour,minute,second):\r\n",
        "        self.__hour = hour\r\n",
        "        self.__minute = minute\r\n",
        "        self.__second = second\r\n",
        "\r\n",
        "    def __add__(self, other):\r\n",
        "        return self.__hour + other.__hour, self.__minute + other.__minute, self.__second + other.__second\r\n",
        "\r\n",
        "print(\"\\n***TIME 1***\\n\")\r\n",
        "a=int(input(\"enter the hour : \"))\r\n",
        "b= int(input(\"enter the minute : \"))\r\n",
        "c= int(input(\"enter the second : \"))\r\n",
        "\r\n",
        "print(\"Time 1 : \", a, \":\", b, \":\", c)\r\n",
        "\r\n",
        "print(\"\\n***TIME 2***\\n\")\r\n",
        "d=int(input(\"enter the hour : \"))\r\n",
        "e= int(input(\"enter the minute : \"))\r\n",
        "f= int(input(\"enter the second : \"))\r\n",
        "\r\n",
        "print(\"Time 2 : \", d, \":\", e, \":\", f)\r\n",
        "\r\n",
        "t1 = Time(a,b,c)\r\n",
        "t2 = Time(d,e,f)\r\n",
        "t3 = t1 + t2\r\n",
        "print(\"Sum of time : \",t3)"
      ],
      "execution_count": 5,
      "outputs": [
        {
          "output_type": "stream",
          "text": [
            "\n",
            "***TIME 1***\n",
            "\n",
            "enter the hour : 2\n",
            "enter the minute : 20\n",
            "enter the second : 52\n",
            "Time 1 :  2 : 20 : 52\n",
            "\n",
            "***TIME 2***\n",
            "\n",
            "enter the hour : 3\n",
            "enter the minute : 3\n",
            "enter the second : 3\n",
            "Time 2 :  3 : 3 : 3\n",
            "Sum of time :  (5, 23, 55)\n"
          ],
          "name": "stdout"
        }
      ]
    },
    {
      "cell_type": "code",
      "metadata": {
        "colab": {
          "base_uri": "https://localhost:8080/"
        },
        "id": "uJlNt1iv20ZF",
        "outputId": "84d61812-97a6-4cf1-9c74-352595bccb6f"
      },
      "source": [
        "class Publisher:\r\n",
        "    def __init__(self,name):\r\n",
        "        self.name=name\r\n",
        "    def show(self):\r\n",
        "        print(\"The publisher of the book is shakesphere\")\r\n",
        "\r\n",
        "class Book(Publisher):\r\n",
        "    def __init__(self,title,author):\r\n",
        "        self.title=title\r\n",
        "        self.author=author\r\n",
        "    def display(self):\r\n",
        "        print(\"The title of the book is \", self.title)\r\n",
        "        print(\"The author of the book is \", self.author)\r\n",
        "\r\n",
        "class Python(Book):\r\n",
        "    def __init__(self,price, pages):\r\n",
        "        self.price=price\r\n",
        "        self.pages=pages\r\n",
        "    def display(self):\r\n",
        "        print(\"The price of the book is \", self.price)\r\n",
        "        print(\"Total pages of the book is \", self.pages)\r\n",
        "\r\n",
        "obj=Python(1000,300)\r\n",
        "obj.show()\r\n",
        "obj.display()"
      ],
      "execution_count": 8,
      "outputs": [
        {
          "output_type": "stream",
          "text": [
            "The publisher of the book is shakesphere\n",
            "The price of the book is  1000\n",
            "Total pages of the book is  300\n"
          ],
          "name": "stdout"
        }
      ]
    }
  ]
}