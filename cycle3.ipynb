{
  "nbformat": 4,
  "nbformat_minor": 0,
  "metadata": {
    "colab": {
      "name": "cycle3.ipynb",
      "provenance": []
    },
    "kernelspec": {
      "name": "python3",
      "display_name": "Python 3"
    }
  },
  "cells": [
    {
      "cell_type": "code",
      "metadata": {
        "colab": {
          "base_uri": "https://localhost:8080/"
        },
        "id": "Og-b0chSunTY",
        "outputId": "ad22d714-d257-439e-cef0-b86b92fc4847"
      },
      "source": [
        "n=int(input(\"enter any number : \"))\r\n",
        "fact=1\r\n",
        "i=1\r\n",
        "while i<=n:\r\n",
        "\tfact=fact*i\r\n",
        "\ti=i+1\r\n",
        "print(\"factorial of\",n,\"is\",fact)"
      ],
      "execution_count": 2,
      "outputs": [
        {
          "output_type": "stream",
          "text": [
            "enter any number : 1\n",
            "factorial of 1 is 1\n"
          ],
          "name": "stdout"
        }
      ]
    },
    {
      "cell_type": "code",
      "metadata": {
        "colab": {
          "base_uri": "https://localhost:8080/"
        },
        "id": "zysvLKN-zW2x",
        "outputId": "e388ad75-d5fc-401d-e82f-7a6b2afdaa31"
      },
      "source": [
        "n=int(input(\"enter the value of n : \"))\r\n",
        "a=0\r\n",
        "b=1\r\n",
        "sum=0\r\n",
        "count=1\r\n",
        "print(\"fibonacci series : \")\r\n",
        "while (count<=n):\r\n",
        "  print(sum,end=\" \")\r\n",
        "  count+=1\r\n",
        "  a=b\r\n",
        "  b=sum\r\n",
        "  sum=a+b"
      ],
      "execution_count": 3,
      "outputs": [
        {
          "output_type": "stream",
          "text": [
            "enter the value of n : 4\n",
            "fibonacci series : \n",
            "0 1 1 2 "
          ],
          "name": "stdout"
        }
      ]
    },
    {
      "cell_type": "code",
      "metadata": {
        "colab": {
          "base_uri": "https://localhost:8080/"
        },
        "id": "wyf7G8Dozeek",
        "outputId": "00ea3483-ca43-488d-be1a-0cef050856a3"
      },
      "source": [
        "\r\n",
        "for i in range(1000,10000):\r\n",
        "  for j in range(32,100):\r\n",
        "    if i==j*j:\r\n",
        "      a=str(i)\r\n",
        "      if (int(a[0])%2==0 and int(a[1])%2==0 and int(a[2])%2==0 and int(a[3])%2==0):\r\n",
        "        print(i)"
      ],
      "execution_count": 9,
      "outputs": [
        {
          "output_type": "stream",
          "text": [
            "4624\n",
            "6084\n",
            "6400\n",
            "8464\n"
          ],
          "name": "stdout"
        }
      ]
    },
    {
      "cell_type": "code",
      "metadata": {
        "colab": {
          "base_uri": "https://localhost:8080/"
        },
        "id": "8-JQnOU30PDG",
        "outputId": "7280c20f-d93e-4ff3-a29b-e70841369186"
      },
      "source": [
        "def py(n):\r\n",
        "  x=1\r\n",
        "  for i in range(1, n+1):\r\n",
        "    for j in range(1, i+1):\r\n",
        "      print(x, end=\" \")\r\n",
        "      x=x+i\r\n",
        "    x=i+1\r\n",
        "    print(\"\\r\")\r\n",
        " \r\n",
        "n=int(input(\"enter the limit : \"))\r\n",
        "py(n)"
      ],
      "execution_count": 10,
      "outputs": [
        {
          "output_type": "stream",
          "text": [
            "enter the limit : 3\n",
            "1 \n",
            "2 4 \n",
            "3 6 9 \n"
          ],
          "name": "stdout"
        }
      ]
    },
    {
      "cell_type": "code",
      "metadata": {
        "colab": {
          "base_uri": "https://localhost:8080/"
        },
        "id": "Mys1w52N0VSJ",
        "outputId": "e0ec34d9-1683-41bf-e73e-a9010ac95d6d"
      },
      "source": [
        "def freq(s):\r\n",
        "  s=s.lower()\r\n",
        "  dict={}\r\n",
        "  for ch in s :\r\n",
        "    keys = dict.keys()\r\n",
        "    if ch in keys :\r\n",
        "      dict[ch]+=1\r\n",
        "    else:\r\n",
        "      dict[ch]=1\r\n",
        "  return dict\r\n",
        "s=input(\"enter any string : \")\r\n",
        "print(\"the character frequency of the given string\",s,\"are :\")\r\n",
        "print(freq(s))"
      ],
      "execution_count": 11,
      "outputs": [
        {
          "output_type": "stream",
          "text": [
            "enter any string : rony\n",
            "the character frequency of the given string rony are :\n",
            "{'r': 1, 'o': 1, 'n': 1, 'y': 1}\n"
          ],
          "name": "stdout"
        }
      ]
    },
    {
      "cell_type": "code",
      "metadata": {
        "colab": {
          "base_uri": "https://localhost:8080/"
        },
        "id": "XPaZ-uuZ0ZDh",
        "outputId": "e4fa8252-5a6d-4f2c-849a-bf65588570a6"
      },
      "source": [
        "s=input(\"enter any string : \")\r\n",
        "if s.endswith(\"ing\") :\r\n",
        "  s+=\"ly\"\r\n",
        "else :\r\n",
        "  s+=\"ing\"\r\n",
        "print(\"modified string : \",s)"
      ],
      "execution_count": 12,
      "outputs": [
        {
          "output_type": "stream",
          "text": [
            "enter any string : rony\n",
            "modified string :  ronying\n"
          ],
          "name": "stdout"
        }
      ]
    },
    {
      "cell_type": "code",
      "metadata": {
        "colab": {
          "base_uri": "https://localhost:8080/"
        },
        "id": "No4wF5Wc0iHm",
        "outputId": "f6a9ba77-5c70-447d-bf5c-ba9fa05e40b4"
      },
      "source": [
        "l=[]\r\n",
        "n= int(input(\"enter the number of elements in list : \"))\r\n",
        "for i in range(1,n+1):\r\n",
        "    x=input()\r\n",
        "    l.append(x)\r\n",
        "max=len(l[0])\r\n",
        "temp=l[0]\r\n",
        "for j in l:\r\n",
        "    if(len(j)>max):\r\n",
        "       max=len(j)\r\n",
        "       temp=j\r\n",
        "print(\"the word with the longest length is :\",temp)k"
      ],
      "execution_count": 13,
      "outputs": [
        {
          "output_type": "stream",
          "text": [
            "enter the number of elements in list : 2\n",
            "rony\n",
            "urian\n",
            "the word with the longest length is : urian\n"
          ],
          "name": "stdout"
        }
      ]
    },
    {
      "cell_type": "code",
      "metadata": {
        "colab": {
          "base_uri": "https://localhost:8080/"
        },
        "id": "s5urnFY30qyg",
        "outputId": "ae1a1dec-65e4-4ed8-844e-3800c6aafb21"
      },
      "source": [
        "for i in range(5):\r\n",
        "  for j in range(i+1):\r\n",
        "    print(\"* \",end=\"\")\r\n",
        "  print()\r\n",
        "for i in range(4):\r\n",
        "  for j in range(i, 4):\r\n",
        "    print(\"* \",end=\"\")\r\n",
        "  print()"
      ],
      "execution_count": 14,
      "outputs": [
        {
          "output_type": "stream",
          "text": [
            "* \n",
            "* * \n",
            "* * * \n",
            "* * * * \n",
            "* * * * * \n",
            "* * * * \n",
            "* * * \n",
            "* * \n",
            "* \n"
          ],
          "name": "stdout"
        }
      ]
    },
    {
      "cell_type": "code",
      "metadata": {
        "colab": {
          "base_uri": "https://localhost:8080/"
        },
        "id": "_adkdGZW0s97",
        "outputId": "be5b07d7-45e2-4e85-8bbd-254819432c0b"
      },
      "source": [
        "n=int(input(\"enter any number : \"))\r\n",
        "i=1\r\n",
        "print(\"all factors of\",n,\"are :\")\r\n",
        "while i<=n:\r\n",
        "  if n%i==0:\r\n",
        "    print(i)\r\n",
        "  i=i+1"
      ],
      "execution_count": 15,
      "outputs": [
        {
          "output_type": "stream",
          "text": [
            "enter any number : 2\n",
            "all factors of 2 are :\n",
            "1\n",
            "2\n"
          ],
          "name": "stdout"
        }
      ]
    },
    {
      "cell_type": "code",
      "metadata": {
        "colab": {
          "base_uri": "https://localhost:8080/"
        },
        "id": "KjBbZyp40y_U",
        "outputId": "ab9a79c1-1b93-4681-bd00-5595c9e58c2e"
      },
      "source": [
        "a=int(input(\"enter the side of square : \"))\r\n",
        "sq_area=lambda a:a**2\r\n",
        "print(\"area of the square is : \",sq_area(a))\r\n",
        "l=int(input(\"enter length : \"))\r\n",
        "w=int(input(\"enter width : \"))\r\n",
        "rect_area=lambda l,w : l*w\r\n",
        "print(\"area of the rectangle is : \",rect_area(l,w))\r\n",
        "a=int(input(\"enter the value of first side : \"))\r\n",
        "b=int(input(\"enter the value of second side : \"))\r\n",
        "c=int(input(\"enter the value of third side : \"))\r\n",
        "s=(a+b+c)/2\r\n",
        "t_area=lambda s,a,b,c : (s*(s-a)*(s-b)*(s-c))**0.5\r\n",
        "print(\"area of triangle :\",t_area(s,a,b,c))"
      ],
      "execution_count": 16,
      "outputs": [
        {
          "output_type": "stream",
          "text": [
            "enter the side of square : 3\n",
            "area of the square is :  9\n",
            "enter length : 2\n",
            "enter width : 4\n",
            "area of the rectangle is :  8\n",
            "enter the value of first side : 2\n",
            "enter the value of second side : 4\n",
            "enter the value of third side : 6\n",
            "area of triangle : 0.0\n"
          ],
          "name": "stdout"
        }
      ]
    }
  ]
}