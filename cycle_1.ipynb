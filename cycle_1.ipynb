{
  "nbformat": 4,
  "nbformat_minor": 0,
  "metadata": {
    "colab": {
      "name": "cycle 1.ipynb",
      "provenance": []
    },
    "kernelspec": {
      "name": "python3",
      "display_name": "Python 3"
    }
  },
  "cells": [
    {
      "cell_type": "code",
      "metadata": {
        "colab": {
          "base_uri": "https://localhost:8080/"
        },
        "id": "WsMTPSo4mkVQ",
        "outputId": "8f2f868a-dfab-4c57-8636-0546b912501d"
      },
      "source": [
        "a=1\r\n",
        "print(\"the value of\",a,\"is of the type\",type(a))\r\n",
        "b=\"hello\"\r\n",
        "print(\"the value of\",b,\"is of the type\",type(b))\r\n",
        "c=3.14\r\n",
        "print(\"the value of\",c,\"is of the type\",type(c))\r\n",
        "d=2j\r\n",
        "print(\"the value of\",d,\"is of the type\",type(d))\r\n",
        "e={\"ads\",\"web\",\"python\"}\r\n",
        "print(\"the value of\",e,\"is of the type\",type(e))\r\n",
        "f=(\"ads\",\"web\",\"python\")\r\n",
        "print(\"the value of\",f,\"is of the type\",type(f))\r\n",
        "g=[\"ads\",\"web\",\"python\"]\r\n",
        "print(\"the value of\",g,\"is of the type\",type(g))\r\n",
        "h=range(5)\r\n",
        "print(\"the value of\",h,\"is of the type\",type(h))\r\n",
        "i=True\r\n",
        "print(\"the value of\",i,\"is of the type\",type(i))"
      ],
      "execution_count": 1,
      "outputs": [
        {
          "output_type": "stream",
          "text": [
            "the value of 1 is of the type <class 'int'>\n",
            "the value of hello is of the type <class 'str'>\n",
            "the value of 3.14 is of the type <class 'float'>\n",
            "the value of 2j is of the type <class 'complex'>\n",
            "the value of {'ads', 'python', 'web'} is of the type <class 'set'>\n",
            "the value of ('ads', 'web', 'python') is of the type <class 'tuple'>\n",
            "the value of ['ads', 'web', 'python'] is of the type <class 'list'>\n",
            "the value of range(0, 5) is of the type <class 'range'>\n",
            "the value of True is of the type <class 'bool'>\n"
          ],
          "name": "stdout"
        }
      ]
    },
    {
      "cell_type": "code",
      "metadata": {
        "colab": {
          "base_uri": "https://localhost:8080/"
        },
        "id": "nU_YZDPxmuE4",
        "outputId": "7d3766cf-6a16-4e41-f7c5-43b1909f73a2"
      },
      "source": [
        "print(\"Hello, World !\")"
      ],
      "execution_count": 2,
      "outputs": [
        {
          "output_type": "stream",
          "text": [
            "Hello, World !\n"
          ],
          "name": "stdout"
        }
      ]
    },
    {
      "cell_type": "code",
      "metadata": {
        "colab": {
          "base_uri": "https://localhost:8080/"
        },
        "id": "IlZ4DNQPm1zI",
        "outputId": "a2b08f4f-6667-4456-af70-12481564f1e6"
      },
      "source": [
        "x=int(input(\"enter a integer value :\"))\r\n",
        "print(x)"
      ],
      "execution_count": 3,
      "outputs": [
        {
          "output_type": "stream",
          "text": [
            "enter a integer value :4\n",
            "4\n"
          ],
          "name": "stdout"
        }
      ]
    },
    {
      "cell_type": "code",
      "metadata": {
        "colab": {
          "base_uri": "https://localhost:8080/"
        },
        "id": "wzX1cl1Um7Og",
        "outputId": "2f4a3bd9-5d14-421c-b67c-ab25eabeca71"
      },
      "source": [
        "x=int(input(\"enter the value of first integer :\"))\r\n",
        "y=int(input(\"enter the value of second integer :\"))\r\n",
        "z=x+y\r\n",
        "print(\"sum is:\",z)"
      ],
      "execution_count": 5,
      "outputs": [
        {
          "output_type": "stream",
          "text": [
            "enter the value of first integer :4\n",
            "enter the value of second integer :6\n",
            "sum is: 10\n"
          ],
          "name": "stdout"
        }
      ]
    },
    {
      "cell_type": "code",
      "metadata": {
        "colab": {
          "base_uri": "https://localhost:8080/"
        },
        "id": "W61T67n3nE3G",
        "outputId": "bcadc7be-b865-4564-a995-7defce14c3da"
      },
      "source": [
        "x=float(input(\"enter the first float value :\"))\r\n",
        "y=float(input(\"enter the second float value :\"))\r\n",
        "z=x*y\r\n",
        "print(\"product :\",z)"
      ],
      "execution_count": 6,
      "outputs": [
        {
          "output_type": "stream",
          "text": [
            "enter the first float value :4.5\n",
            "enter the second float value :6.5\n",
            "product : 29.25\n"
          ],
          "name": "stdout"
        }
      ]
    },
    {
      "cell_type": "code",
      "metadata": {
        "colab": {
          "base_uri": "https://localhost:8080/"
        },
        "id": "frLBlgyFnOz7",
        "outputId": "4dad90d4-8ced-49ce-a9e0-f1b69c17b858"
      },
      "source": [
        "a=int(input(\"enter the first value :\"))\r\n",
        "b=int(input(\"enter the second value :\"))\r\n",
        "q=a//b\r\n",
        "print(\"quotient :\",q)\r\n",
        "r=a%b\r\n",
        "print(\"remainder :\",r)"
      ],
      "execution_count": 7,
      "outputs": [
        {
          "output_type": "stream",
          "text": [
            "enter the first value :4\n",
            "enter the second value :6\n",
            "quotient : 0\n",
            "remainder : 4\n"
          ],
          "name": "stdout"
        }
      ]
    },
    {
      "cell_type": "code",
      "metadata": {
        "colab": {
          "base_uri": "https://localhost:8080/"
        },
        "id": "B-tw8EqznTM3",
        "outputId": "a65191ae-4502-4fca-edc0-b6fac9b62c2b"
      },
      "source": [
        "x=float(input(\"enter the first number :\"))\r\n",
        "y=float(input(\"enter the second number :\"))\r\n",
        "print(\"value of the first number before swapping :\",x)\r\n",
        "print(\"value of the second number before swapping :\",y)\r\n",
        "z=x\r\n",
        "x=y\r\n",
        "y=z\r\n",
        "print(\"value of the first number after swapping :\",x)\r\n",
        "print(\"value of the second number after swapping :\",y)"
      ],
      "execution_count": 8,
      "outputs": [
        {
          "output_type": "stream",
          "text": [
            "enter the first number :4\n",
            "enter the second number :6\n",
            "value of the first number before swapping : 4.0\n",
            "value of the second number before swapping : 6.0\n",
            "value of the first number after swapping : 6.0\n",
            "value of the second number after swapping : 4.0\n"
          ],
          "name": "stdout"
        }
      ]
    },
    {
      "cell_type": "code",
      "metadata": {
        "colab": {
          "base_uri": "https://localhost:8080/"
        },
        "id": "dUoujwQVnWSN",
        "outputId": "9bfb7f64-2ed6-4da9-c35e-94b7710c045c"
      },
      "source": [
        "\r\n",
        "x=int(input(\"enter any number :\"))\r\n",
        "y = x%2\r\n",
        "if y==0:\r\n",
        "  print(x,\"is an even number.\")\r\n",
        "else:\r\n",
        "    print(x,\"is an odd number.\")"
      ],
      "execution_count": 9,
      "outputs": [
        {
          "output_type": "stream",
          "text": [
            "enter any number :4\n",
            "4 is an even number.\n"
          ],
          "name": "stdout"
        }
      ]
    },
    {
      "cell_type": "code",
      "metadata": {
        "colab": {
          "base_uri": "https://localhost:8080/"
        },
        "id": "SY3IG6eLndwM",
        "outputId": "e6782cf0-5f08-4054-d2c6-70bd714d2d04"
      },
      "source": [
        "ch=input(\"enter any character :\")\r\n",
        "if (ch=='A'or ch=='E' or ch=='I' or ch=='O' or ch=='U'or ch=='a' or ch=='e' or ch=='i' or ch=='o' or ch=='u'):\r\n",
        "  print(ch,\"is a vowel.\")\r\n",
        "else:\r\n",
        "  print(ch,\"is a consonant.\")"
      ],
      "execution_count": 10,
      "outputs": [
        {
          "output_type": "stream",
          "text": [
            "enter any character :r\n",
            "r is a consonant.\n"
          ],
          "name": "stdout"
        }
      ]
    },
    {
      "cell_type": "code",
      "metadata": {
        "colab": {
          "base_uri": "https://localhost:8080/"
        },
        "id": "bsi_BUpNniF-",
        "outputId": "15797176-c622-4abd-8f37-6d68d67d4d5c"
      },
      "source": [
        "a=float(input(\"enter the first number :\"))\r\n",
        "b=float(input(\"enter the second number :\"))\r\n",
        "c=float(input(\"enter the third number :\"))\r\n",
        "if (a>b) and (a>c):\r\n",
        "  print(a,\"is largest number.\")\r\n",
        "elif (b>a) and (b>c):\r\n",
        "  print(b,\"is the largest number.\")\r\n",
        "else:\r\n",
        "  print(c,\"is the largest number.\")"
      ],
      "execution_count": 11,
      "outputs": [
        {
          "output_type": "stream",
          "text": [
            "enter the first number :4\n",
            "enter the second number :8\n",
            "enter the third number :6\n",
            "8.0 is the largest number.\n"
          ],
          "name": "stdout"
        }
      ]
    },
    {
      "cell_type": "code",
      "metadata": {
        "colab": {
          "base_uri": "https://localhost:8080/"
        },
        "id": "w74y7BfNnlJ-",
        "outputId": "059a7739-0377-42e8-8b1d-9800e7bb542e"
      },
      "source": [
        "yr=int(input(\"enter a year :\"))\r\n",
        "if ((yr%400==0) or ((yr%4==0) and (yr%100!=0))):\r\n",
        " print(yr,\"is a leap year.\")\r\n",
        "else:\r\n",
        "  print(yr,\"is not a leap year.\")"
      ],
      "execution_count": 12,
      "outputs": [
        {
          "output_type": "stream",
          "text": [
            "enter a year :1889\n",
            "1889 is not a leap year.\n"
          ],
          "name": "stdout"
        }
      ]
    },
    {
      "cell_type": "code",
      "metadata": {
        "colab": {
          "base_uri": "https://localhost:8080/"
        },
        "id": "s_otXmzPnrp-",
        "outputId": "822bc815-2843-44f8-e8d0-dad1f03a1412"
      },
      "source": [
        "x=int(input(\"enter any number:\"))\r\n",
        "if x>0:\r\n",
        "  print(x,\"is a positive number.\")\r\n",
        "else:\r\n",
        "  print(x,\"is a negative number.\")"
      ],
      "execution_count": 13,
      "outputs": [
        {
          "output_type": "stream",
          "text": [
            "enter any number:4\n",
            "4 is a positive number.\n"
          ],
          "name": "stdout"
        }
      ]
    },
    {
      "cell_type": "code",
      "metadata": {
        "colab": {
          "base_uri": "https://localhost:8080/"
        },
        "id": "pCX6ae1Bn5Na",
        "outputId": "71a65463-27e1-412e-9ff4-20c4b9fb112c"
      },
      "source": [
        "n=int(input(\"enter a any number :\"))\r\n",
        "if n<0:\r\n",
        "  print(\"print a positive number.\")\r\n",
        "else:\r\n",
        "  sum=0\r\n",
        "  while (n>0):\r\n",
        "    sum+=n\r\n",
        "    n-=1\r\n",
        "print(\"sum of natural numbers is\",sum)"
      ],
      "execution_count": 14,
      "outputs": [
        {
          "output_type": "stream",
          "text": [
            "enter a any number :4\n",
            "sum of natural numbers is 10\n"
          ],
          "name": "stdout"
        }
      ]
    },
    {
      "cell_type": "code",
      "metadata": {
        "colab": {
          "base_uri": "https://localhost:8080/"
        },
        "id": "Qhl6s9spoAvk",
        "outputId": "fac7cdf8-a4b9-469b-c62a-c09c7bfb434d"
      },
      "source": [
        "n=int(input(\"enter any number :\"))\r\n",
        "fact=1\r\n",
        "for i in range(1,n+1):\r\n",
        "  fact=fact*i\r\n",
        "print(\"factorial of\",n,\"is\",fact)"
      ],
      "execution_count": 15,
      "outputs": [
        {
          "output_type": "stream",
          "text": [
            "enter any number :4\n",
            "factorial of 4 is 24\n"
          ],
          "name": "stdout"
        }
      ]
    },
    {
      "cell_type": "code",
      "metadata": {
        "colab": {
          "base_uri": "https://localhost:8080/"
        },
        "id": "3cAQuTLAoGCv",
        "outputId": "4b305cad-fbb0-43ae-d85f-5366ed15655a"
      },
      "source": [
        "\r\n",
        "x=int(input(\"show the multiplication table of ?\"))\r\n",
        "for i in range(1,11):\r\n",
        "  print(x,'x',i,'=',x*i)"
      ],
      "execution_count": 16,
      "outputs": [
        {
          "output_type": "stream",
          "text": [
            "show the multiplication table of ?4\n",
            "4 x 1 = 4\n",
            "4 x 2 = 8\n",
            "4 x 3 = 12\n",
            "4 x 4 = 16\n",
            "4 x 5 = 20\n",
            "4 x 6 = 24\n",
            "4 x 7 = 28\n",
            "4 x 8 = 32\n",
            "4 x 9 = 36\n",
            "4 x 10 = 40\n"
          ],
          "name": "stdout"
        }
      ]
    },
    {
      "cell_type": "code",
      "metadata": {
        "colab": {
          "base_uri": "https://localhost:8080/"
        },
        "id": "R-KUH2eToIPo",
        "outputId": "24907368-e2f6-44b4-e9e9-171160fd64ca"
      },
      "source": [
        "n=int(input(\"enter any number :\"))\r\n",
        "x,y =0,1\r\n",
        "count=0\r\n",
        "if n<=0:\r\n",
        "  print(\"enter a positive number.\")\r\n",
        "elif n==1:\r\n",
        "  print(\"fibonacci sequence upto\",n,\":\")\r\n",
        "  print(x)\r\n",
        "else:\r\n",
        "  print(\"fibonacci sequence :\")\r\n",
        "  while count<n:\r\n",
        "    print(x)\r\n",
        "    z=x+y\r\n",
        "    x=y\r\n",
        "    y=z\r\n",
        "    count+=1"
      ],
      "execution_count": 17,
      "outputs": [
        {
          "output_type": "stream",
          "text": [
            "enter any number :4\n",
            "fibonacci sequence :\n",
            "0\n",
            "1\n",
            "1\n",
            "2\n"
          ],
          "name": "stdout"
        }
      ]
    },
    {
      "cell_type": "code",
      "metadata": {
        "colab": {
          "base_uri": "https://localhost:8080/"
        },
        "id": "A_u0bmC7oM4m",
        "outputId": "15c9c1e0-b256-4c52-80c2-59234f2b26c0"
      },
      "source": [
        "def find_lcm(x, y):\r\n",
        "   if x > y:\r\n",
        "       greater = x\r\n",
        "   else:\r\n",
        "       greater = y\r\n",
        "   while(True):\r\n",
        "       if((greater % x == 0) and (greater % y == 0)):\r\n",
        "           lcm = greater\r\n",
        "           break\r\n",
        "       greater += 1\r\n",
        "   return lcm\r\n",
        "a=int(input(\"enter the value of first number :\"))\r\n",
        "b=int(input(\"enter the value of second number :\"))\r\n",
        "print(\"the L.C.M. is\", find_lcm(a,b))"
      ],
      "execution_count": 18,
      "outputs": [
        {
          "output_type": "stream",
          "text": [
            "enter the value of first number :4\n",
            "enter the value of second number :6\n",
            "the L.C.M. is 12\n"
          ],
          "name": "stdout"
        }
      ]
    },
    {
      "cell_type": "code",
      "metadata": {
        "colab": {
          "base_uri": "https://localhost:8080/"
        },
        "id": "RwT8z-fmoUY4",
        "outputId": "2bcf1f3c-bb66-40d3-9282-4bfef2856384"
      },
      "source": [
        "\r\n",
        "n=int(input(\"enter any number :\"))\r\n",
        "count=0\r\n",
        "while (n>0):\r\n",
        "    count=count+1\r\n",
        "    n=n//10\r\n",
        "print(\"the number of digits in the given number is/are :\",count)"
      ],
      "execution_count": 19,
      "outputs": [
        {
          "output_type": "stream",
          "text": [
            "enter any number :4\n",
            "the number of digits in the given number is/are : 1\n"
          ],
          "name": "stdout"
        }
      ]
    },
    {
      "cell_type": "code",
      "metadata": {
        "colab": {
          "base_uri": "https://localhost:8080/"
        },
        "id": "4QaoDaKAoY8t",
        "outputId": "e997ca0c-0112-4d6e-9e92-e3a1a5c2e124"
      },
      "source": [
        "x=int(input(\"enter any number to be reversed :\"))\r\n",
        "rev=0\r\n",
        "while x>0:\r\n",
        "  rev=(rev*10)+(x%10)\r\n",
        "  x=x//10\r\n",
        "print(\"reverse is\",rev)"
      ],
      "execution_count": 20,
      "outputs": [
        {
          "output_type": "stream",
          "text": [
            "enter any number to be reversed :125\n",
            "reverse is 521\n"
          ],
          "name": "stdout"
        }
      ]
    },
    {
      "cell_type": "code",
      "metadata": {
        "colab": {
          "base_uri": "https://localhost:8080/"
        },
        "id": "UraaNjPjodXO",
        "outputId": "94a10482-8426-4ddb-c9c0-a0fa725fa5fb"
      },
      "source": [
        "n=int(input(\"enter any positive number :\"))\r\n",
        "e=int(input(\"enter the value of exponent :\"))\r\n",
        "p=1\r\n",
        "for i in range(1,e+1):\r\n",
        "  p=p*n\r\n",
        "print(\"the power of\",n,\"^\",e,\"is\",p)"
      ],
      "execution_count": 21,
      "outputs": [
        {
          "output_type": "stream",
          "text": [
            "enter any positive number :4\n",
            "enter the value of exponent :5\n",
            "the power of 4 ^ 5 is 1024\n"
          ],
          "name": "stdout"
        }
      ]
    },
    {
      "cell_type": "code",
      "metadata": {
        "colab": {
          "base_uri": "https://localhost:8080/"
        },
        "id": "ilOxK6B4ojlI",
        "outputId": "607f0b08-9ed6-4f70-e351-dbe89ec7499d"
      },
      "source": [
        "n=int(input(\"enter any number :\"))\r\n",
        "rev=0\r\n",
        "temp=n\r\n",
        "while (temp > 0):\r\n",
        "    r=temp%10\r\n",
        "    rev=(rev*10)+r\r\n",
        "    temp=temp//10\r\n",
        "print(\"reverse of this given number is\",rev)\r\n",
        "if (n==rev):\r\n",
        "    print(n,\"is a palindrome number\")\r\n",
        "else:\r\n",
        "    print(n,\"is not a palindrome number\")"
      ],
      "execution_count": 22,
      "outputs": [
        {
          "output_type": "stream",
          "text": [
            "enter any number :4\n",
            "reverse of this given number is 4\n",
            "4 is a palindrome number\n"
          ],
          "name": "stdout"
        }
      ]
    }
  ]
}