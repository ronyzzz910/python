{
  "nbformat": 4,
  "nbformat_minor": 0,
  "metadata": {
    "colab": {
      "name": "Untitled1.ipynb",
      "provenance": [],
      "authorship_tag": "ABX9TyNDZOc40YNmuSLsghVtXbsw",
      "include_colab_link": true
    },
    "kernelspec": {
      "name": "python3",
      "display_name": "Python 3"
    }
  },
  "cells": [
    {
      "cell_type": "markdown",
      "metadata": {
        "id": "view-in-github",
        "colab_type": "text"
      },
      "source": [
        "<a href=\"https://colab.research.google.com/github/ronyzzz910/python/blob/main/cycle2.ipynb\" target=\"_parent\"><img src=\"https://colab.research.google.com/assets/colab-badge.svg\" alt=\"Open In Colab\"/></a>"
      ]
    },
    {
      "cell_type": "code",
      "metadata": {
        "colab": {
          "base_uri": "https://localhost:8080/"
        },
        "id": "xPjmePJc9KsI",
        "outputId": "5ee972e3-c878-4f69-9ba8-42d153744e8c"
      },
      "source": [
        "2\r\n",
        "y = int(input(\"enter final leap year:\"))\r\n",
        "print (\"future leap year from 2021\")\r\n",
        "for  x  in range(2021 , y+1):\r\n",
        "   if ((x%4==0) and (x%100!=0 )):\r\n",
        "     print(x)"
      ],
      "execution_count": 2,
      "outputs": [
        {
          "output_type": "stream",
          "text": [
            "enter final leap year:2031\n",
            "future leap year from 2021\n",
            "2024\n",
            "2028\n"
          ],
          "name": "stdout"
        }
      ]
    },
    {
      "cell_type": "code",
      "metadata": {
        "id": "s8kLbLdJ_j3i"
      },
      "source": [
        ""
      ],
      "execution_count": null,
      "outputs": []
    },
    {
      "cell_type": "code",
      "metadata": {
        "colab": {
          "base_uri": "https://localhost:8080/"
        },
        "id": "tq0hrlOG_xhh",
        "outputId": "b217ef50-edc5-4453-ad1b-97135748199e"
      },
      "source": [
        "9\r\n",
        "a = input(\"enter a string\")\r\n",
        "print(\"new string :\")\r\n",
        "print(a[-1:] + a[1:-1] + a[0])\r\n"
      ],
      "execution_count": 7,
      "outputs": [
        {
          "output_type": "stream",
          "text": [
            "enter a stringpython\n",
            "new string :\n",
            "nythop\n"
          ],
          "name": "stdout"
        }
      ]
    },
    {
      "cell_type": "code",
      "metadata": {
        "colab": {
          "base_uri": "https://localhost:8080/"
        },
        "id": "PjieD_Wu_3w1",
        "outputId": "982a7ffe-7fcc-48eb-b915-5409a12de641"
      },
      "source": [
        "10\r\n",
        "PI = 3.14\r\n",
        "radius = float(input(' Please Enter the radius of a circle: '))\r\n",
        "area = PI * radius * radius\r\n",
        "print(\" Area Of a Circle = %f\" %area)"
      ],
      "execution_count": 8,
      "outputs": [
        {
          "output_type": "stream",
          "text": [
            " Please Enter the radius of a circle: 4\n",
            " Area Of a Circle = 50.240000\n"
          ],
          "name": "stdout"
        }
      ]
    },
    {
      "cell_type": "code",
      "metadata": {
        "colab": {
          "base_uri": "https://localhost:8080/"
        },
        "id": "Ke_y0bk9AECM",
        "outputId": "20cbc300-790d-4b63-e736-006a3e79336a"
      },
      "source": [
        "11\r\n",
        "num1 = input(\"enter first number\")\r\n",
        "num2 = input(\"enter second number\")\r\n",
        "num3 = input(\"enter third number\")\r\n",
        "if(num1>num2) and (num1>num3):\r\n",
        "  largest=num1\r\n",
        "elif (num2>num1) and (num2>num3):\r\n",
        "  largest=num2  \r\n",
        "else: \r\n",
        "   largest = num3\r\n",
        "   print(\"largest is\" ,largest)\r\n",
        "\r\n",
        "  "
      ],
      "execution_count": 11,
      "outputs": [
        {
          "output_type": "stream",
          "text": [
            "enter first number12\n",
            "enter second number50\n",
            "enter third number55\n",
            "largest is 55\n"
          ],
          "name": "stdout"
        }
      ]
    },
    {
      "cell_type": "code",
      "metadata": {
        "colab": {
          "base_uri": "https://localhost:8080/"
        },
        "id": "9NIPaQJm98B7",
        "outputId": "8269a605-a888-4ae9-905b-3291c0bcecf2"
      },
      "source": [
        "3a\r\n",
        "mylist =[-5, 30, 50, -18, 13]\r\n",
        "print(\"firstlist:\" , mylist)\r\n",
        "newlist =[x for x in mylist if x > 0]\r\n",
        "print(\"newlist :\",newlist)"
      ],
      "execution_count": 3,
      "outputs": [
        {
          "output_type": "stream",
          "text": [
            "firstlist: [-5, 30, 50, -18, 13]\n",
            "newlist : [30, 50, 13]\n"
          ],
          "name": "stdout"
        }
      ]
    },
    {
      "cell_type": "code",
      "metadata": {
        "colab": {
          "base_uri": "https://localhost:8080/"
        },
        "id": "8rlbREyTM5cx",
        "outputId": "728f1b32-259f-4340-e5a2-b014fe949b79"
      },
      "source": [
        "14\r\n",
        "a = int(input(\"enter an integer :\"))\r\n",
        "n1 =  int( \"%s\" % a )\r\n",
        "n2 = int(\"%s%s\" % (a,a) )\r\n",
        "n3 = int(\"%s%s%s\" % (a,a,a) )\r\n",
        "print (n1+n2+n3)"
      ],
      "execution_count": 13,
      "outputs": [
        {
          "output_type": "stream",
          "text": [
            "enter an integer :6\n",
            "738\n"
          ],
          "name": "stdout"
        }
      ]
    },
    {
      "cell_type": "code",
      "metadata": {
        "colab": {
          "base_uri": "https://localhost:8080/"
        },
        "id": "ROHVhu7oNIlX",
        "outputId": "97b23d21-cc2c-4516-fbbe-6c76e94d2c70"
      },
      "source": [
        "18\r\n",
        "thisdict1 = {'a' : 100,  'b': 200}\r\n",
        "thisdict2 = {'x': 300, 'y': 400}\r\n",
        "d = thisdict1.copy()\r\n",
        "d.update(thisdict2)\r\n",
        "print(d)"
      ],
      "execution_count": 16,
      "outputs": [
        {
          "output_type": "stream",
          "text": [
            "{'a': 100, 'b': 200, 'x': 300, 'y': 400}\n"
          ],
          "name": "stdout"
        }
      ]
    },
    {
      "cell_type": "code",
      "metadata": {
        "colab": {
          "base_uri": "https://localhost:8080/"
        },
        "id": "SKRev2-2NdG_",
        "outputId": "718c336c-0dae-4d4a-8943-a30299eb2435"
      },
      "source": [
        "20\r\n",
        "list = [10, 13, 15, 16, 17]\r\n",
        "print(\"orginal list:\",list)\r\n",
        "for i in list:\r\n",
        "  if(i%2 == 0):\r\n",
        "    list.remove(i)\r\n",
        "print(\"list after removing even number:\" , list)"
      ],
      "execution_count": 17,
      "outputs": [
        {
          "output_type": "stream",
          "text": [
            "orginal list: [10, 13, 15, 16, 17]\n",
            "list after removing even number: [13, 15, 17]\n"
          ],
          "name": "stdout"
        }
      ]
    },
    {
      "cell_type": "code",
      "metadata": {
        "colab": {
          "base_uri": "https://localhost:8080/"
        },
        "id": "tz8VkTRL-apB",
        "outputId": "0d65c244-f8f6-4a89-c3d8-92fd50b58038"
      },
      "source": [
        "3b\r\n",
        "mylist=[2, 3, 5, 7, 9]\r\n",
        "print(\"firstlist : \",  mylist)\r\n",
        "newlist=[number ** 2 for number in mylist]\r\n",
        "print(\"new list :\" ,newlist)"
      ],
      "execution_count": 4,
      "outputs": [
        {
          "output_type": "stream",
          "text": [
            "firstlist :  [2, 3, 5, 7, 9]\n",
            "new list : [4, 9, 25, 49, 81]\n"
          ],
          "name": "stdout"
        }
      ]
    },
    {
      "cell_type": "code",
      "metadata": {
        "colab": {
          "base_uri": "https://localhost:8080/"
        },
        "id": "qtLaF6ob-_1R",
        "outputId": "47abb879-68df-4831-c680-5a8bd90c1fe4"
      },
      "source": [
        "12\r\n",
        "filename = input(\"enter the filename :\")\r\n",
        "f_extns = filename.split(\".\")\r\n",
        "print (\"the extension of the file : \" + repr(f_extns[-1]))\r\n"
      ],
      "execution_count": 6,
      "outputs": [
        {
          "output_type": "stream",
          "text": [
            "enter the filename :rony.jpj\n",
            "the extension of the file : 'jpj'\n"
          ],
          "name": "stdout"
        }
      ]
    }
  ]
}